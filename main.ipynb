{
 "cells": [
  {
   "cell_type": "code",
   "execution_count": 35,
   "id": "c8baf9aa",
   "metadata": {},
   "outputs": [],
   "source": [
    "import polynomial_matching as pm\n",
    "import cv2\n",
    "import numpy as np\n",
    "import matplotlib.pyplot as plt\n",
    "import rawpy\n",
    "import pandas as pd"
   ]
  },
  {
   "cell_type": "markdown",
   "id": "d411c325",
   "metadata": {},
   "source": [
    "## Read images"
   ]
  },
  {
   "cell_type": "code",
   "execution_count": 36,
   "id": "0b5893f9",
   "metadata": {},
   "outputs": [],
   "source": [
    "raw_images = []\n",
    "for i in range(1,6):\n",
    "    raw = cv2.imread('data/image/Canon1DsMkIII_000{}.tiff'.format(i), cv2.IMREAD_UNCHANGED)\n",
    "    raw_images.append(cv2.demosaicing(raw, cv2.COLOR_BAYER_BG2BGR))"
   ]
  },
  {
   "cell_type": "code",
   "execution_count": 37,
   "id": "17fb9cb1",
   "metadata": {},
   "outputs": [],
   "source": [
    "def normIm(image, darkness, saturation):\n",
    "    '''Normalize the image to [0,1]'''\n",
    "    return (image-darkness)/(saturation-darkness)"
   ]
  },
  {
   "cell_type": "code",
   "execution_count": 38,
   "id": "c18716bc",
   "metadata": {},
   "outputs": [],
   "source": [
    "darkness_level = 1024.\n",
    "saturation_level = 15279."
   ]
  },
  {
   "cell_type": "code",
   "execution_count": 39,
   "id": "26ee3b68",
   "metadata": {},
   "outputs": [],
   "source": [
    "norm_images = []\n",
    "for im in raw_images:\n",
    "    norm_images.append(normIm(im, 1024., 15279))"
   ]
  },
  {
   "cell_type": "code",
   "execution_count": 40,
   "id": "b82023f0",
   "metadata": {},
   "outputs": [],
   "source": [
    "def brightCorrection(image):\n",
    "    '''Adjust the brightness of the image'''\n",
    "    # RGB转灰度 RGB 0.299, 0.587, 0.114\n",
    "    grayMean = np.mean(image[:,:,0])*0.114 + np.mean(image[:,:,1])*0.587 + np.mean(image[:,:,2])*0.299\n",
    "    grayScale = 0.25/grayMean\n",
    "    rtn = image*grayScale\n",
    "    rtn[rtn>1] = 1\n",
    "    return rtn"
   ]
  },
  {
   "cell_type": "code",
   "execution_count": 41,
   "id": "480dea29",
   "metadata": {},
   "outputs": [],
   "source": [
    "def gammaCorrection(image, gamma=2.2):\n",
    "    '''Convert linear RGB to sRGB with gammaCorrection'''\n",
    "    invgamma = 1 / gamma\n",
    "    return (np.power(image, invgamma)*255).astype(np.uint8)"
   ]
  },
  {
   "cell_type": "code",
   "execution_count": 42,
   "id": "e1cb1817",
   "metadata": {},
   "outputs": [
    {
     "name": "stdout",
     "output_type": "stream",
     "text": [
      "(3752, 5640, 3)\n"
     ]
    },
    {
     "ename": "KeyboardInterrupt",
     "evalue": "",
     "output_type": "error",
     "traceback": [
      "\u001b[1;31m---------------------------------------------------------------------------\u001b[0m",
      "\u001b[1;31mKeyboardInterrupt\u001b[0m                         Traceback (most recent call last)",
      "\u001b[1;32m~\\AppData\\Local\\Temp/ipykernel_26460/3786816116.py\u001b[0m in \u001b[0;36m<module>\u001b[1;34m\u001b[0m\n\u001b[0;32m      2\u001b[0m \u001b[1;32mfor\u001b[0m \u001b[0mim\u001b[0m \u001b[1;32min\u001b[0m \u001b[0mnorm_images\u001b[0m\u001b[1;33m:\u001b[0m\u001b[1;33m\u001b[0m\u001b[1;33m\u001b[0m\u001b[0m\n\u001b[0;32m      3\u001b[0m     \u001b[0mprint\u001b[0m\u001b[1;33m(\u001b[0m\u001b[0mnp\u001b[0m\u001b[1;33m.\u001b[0m\u001b[0mshape\u001b[0m\u001b[1;33m(\u001b[0m\u001b[0mim\u001b[0m\u001b[1;33m)\u001b[0m\u001b[1;33m)\u001b[0m\u001b[1;33m\u001b[0m\u001b[1;33m\u001b[0m\u001b[0m\n\u001b[1;32m----> 4\u001b[1;33m     \u001b[0msRGB_images\u001b[0m\u001b[1;33m.\u001b[0m\u001b[0mappend\u001b[0m\u001b[1;33m(\u001b[0m\u001b[0mcv2\u001b[0m\u001b[1;33m.\u001b[0m\u001b[0mcvtColor\u001b[0m\u001b[1;33m(\u001b[0m\u001b[0mgammaCorrection\u001b[0m\u001b[1;33m(\u001b[0m\u001b[0mbrightCorrection\u001b[0m\u001b[1;33m(\u001b[0m\u001b[0mim\u001b[0m\u001b[1;33m)\u001b[0m\u001b[1;33m)\u001b[0m\u001b[1;33m,\u001b[0m\u001b[0mcv2\u001b[0m\u001b[1;33m.\u001b[0m\u001b[0mCOLOR_BGR2RGB\u001b[0m\u001b[1;33m)\u001b[0m\u001b[1;33m)\u001b[0m\u001b[1;33m\u001b[0m\u001b[1;33m\u001b[0m\u001b[0m\n\u001b[0m",
      "\u001b[1;32m~\\AppData\\Local\\Temp/ipykernel_26460/99706111.py\u001b[0m in \u001b[0;36mgammaCorrection\u001b[1;34m(image, gamma)\u001b[0m\n\u001b[0;32m      2\u001b[0m     \u001b[1;34m'''Convert linear RGB to sRGB with gammaCorrection'''\u001b[0m\u001b[1;33m\u001b[0m\u001b[1;33m\u001b[0m\u001b[0m\n\u001b[0;32m      3\u001b[0m     \u001b[0minvgamma\u001b[0m \u001b[1;33m=\u001b[0m \u001b[1;36m1\u001b[0m \u001b[1;33m/\u001b[0m \u001b[0mgamma\u001b[0m\u001b[1;33m\u001b[0m\u001b[1;33m\u001b[0m\u001b[0m\n\u001b[1;32m----> 4\u001b[1;33m     \u001b[1;32mreturn\u001b[0m \u001b[1;33m(\u001b[0m\u001b[0mnp\u001b[0m\u001b[1;33m.\u001b[0m\u001b[0mpower\u001b[0m\u001b[1;33m(\u001b[0m\u001b[0mimage\u001b[0m\u001b[1;33m,\u001b[0m \u001b[0minvgamma\u001b[0m\u001b[1;33m)\u001b[0m\u001b[1;33m*\u001b[0m\u001b[1;36m255\u001b[0m\u001b[1;33m)\u001b[0m\u001b[1;33m.\u001b[0m\u001b[0mastype\u001b[0m\u001b[1;33m(\u001b[0m\u001b[0mnp\u001b[0m\u001b[1;33m.\u001b[0m\u001b[0muint8\u001b[0m\u001b[1;33m)\u001b[0m\u001b[1;33m\u001b[0m\u001b[1;33m\u001b[0m\u001b[0m\n\u001b[0m",
      "\u001b[1;32m~\\AppData\\Local\\Programs\\Python\\Python39\\lib\\warnings.py\u001b[0m in \u001b[0;36m__init__\u001b[1;34m(self, message, category, filename, lineno, file, line, source)\u001b[0m\n\u001b[0;32m    401\u001b[0m                         \"line\", \"source\")\n\u001b[0;32m    402\u001b[0m \u001b[1;33m\u001b[0m\u001b[0m\n\u001b[1;32m--> 403\u001b[1;33m     def __init__(self, message, category, filename, lineno, file=None,\n\u001b[0m\u001b[0;32m    404\u001b[0m                  line=None, source=None):\n\u001b[0;32m    405\u001b[0m         \u001b[0mself\u001b[0m\u001b[1;33m.\u001b[0m\u001b[0mmessage\u001b[0m \u001b[1;33m=\u001b[0m \u001b[0mmessage\u001b[0m\u001b[1;33m\u001b[0m\u001b[1;33m\u001b[0m\u001b[0m\n",
      "\u001b[1;31mKeyboardInterrupt\u001b[0m: "
     ]
    }
   ],
   "source": [
    "sRGB_images = []\n",
    "for im in norm_images:\n",
    "    print(np.shape(im))\n",
    "    sRGB_images.append(cv2.cvtColor(gammaCorrection(brightCorrection(im)),cv2.COLOR_BGR2RGB))"
   ]
  },
  {
   "cell_type": "code",
   "execution_count": null,
   "id": "3cc344f1",
   "metadata": {},
   "outputs": [],
   "source": [
    "fig, ax = plt.subplots(1, 5)\n",
    "\n",
    "ax[0].imshow(sRGB_images[0])\n",
    "ax[1].imshow(sRGB_images[1])\n",
    "ax[2].imshow(sRGB_images[2])\n",
    "ax[3].imshow(sRGB_images[3])\n",
    "ax[4].imshow(sRGB_images[4])\n",
    "plt.show()"
   ]
  },
  {
   "cell_type": "markdown",
   "id": "c4405213",
   "metadata": {},
   "source": [
    "## Read patch color"
   ]
  },
  {
   "cell_type": "code",
   "execution_count": null,
   "id": "5abc1ec7",
   "metadata": {},
   "outputs": [],
   "source": [
    "patches = []\n",
    "for i in range(1, 6):\n",
    "    rawpatch = pd.read_csv('data/checker/Canon1DsMkIII_000{}_color.txt'.format(i), names=['1','2','3']).to_numpy() # access to the RAW image\n",
    "    patches.append(gammaCorrection(normIm(rawpatch,darkness_level,saturation_level)))\n",
    "    \n",
    "print(patches[0])"
   ]
  },
  {
   "cell_type": "code",
   "execution_count": null,
   "id": "10545267",
   "metadata": {},
   "outputs": [],
   "source": [
    "print(patches[0][:,0])"
   ]
  },
  {
   "cell_type": "code",
   "execution_count": null,
   "id": "47ec8259",
   "metadata": {},
   "outputs": [],
   "source": [
    "stdmatch = []\n",
    "stdimages = []\n",
    "for i in range(0, len(patches)):\n",
    "    stdmatch.append(pm.polyCoeff(patches[i], pm.ColorChecker2005_sRGB))\n",
    "    stdmatch[-1].to_npy('data/Canon1DsMkIII_000{}.npy'.format(i))\n",
    "    stdimages.append(stdmatch[-1].transform(sRGB_images[i]))"
   ]
  },
  {
   "cell_type": "code",
   "execution_count": null,
   "id": "ae73b73d",
   "metadata": {},
   "outputs": [],
   "source": [
    "fig, ax = plt.subplots(1, 5)\n",
    "\n",
    "ax[0].imshow(stdimages[0])\n",
    "ax[1].imshow(stdimages[1])\n",
    "ax[2].imshow(stdimages[2])\n",
    "ax[3].imshow(stdimages[3])\n",
    "ax[4].imshow(stdimages[4])\n",
    "plt.show()"
   ]
  },
  {
   "cell_type": "code",
   "execution_count": null,
   "id": "6eed31a2",
   "metadata": {},
   "outputs": [],
   "source": [
    "cv2.imwrite('error_image.png', cv2.cvtColor(stdimages[4], cv2.COLOR_RGB2BGR))"
   ]
  },
  {
   "cell_type": "code",
   "execution_count": null,
   "id": "b5ed5f30",
   "metadata": {},
   "outputs": [],
   "source": [
    "plt.imshow(cv2.cvtColor(sRGB_images[4],cv2.COLOR_BGR2RGB))"
   ]
  },
  {
   "cell_type": "code",
   "execution_count": null,
   "id": "fbd3757e",
   "metadata": {},
   "outputs": [],
   "source": [
    "uniquematch=[]\n",
    "uniqueimages=[]\n",
    "for i in range(0, len(patches)-1):\n",
    "    uniquematch.append(pm.polyCoeff(pm.ColorChecker2005_sRGB, patches[i]))\n",
    "    uniquematch[-1].to_npy('data/Canon1DsMkIII_000{}.npy'.format(i))\n",
    "    uniqueimages.append(uniquematch[-1].transform(stdimages[0]))"
   ]
  },
  {
   "cell_type": "code",
   "execution_count": null,
   "id": "727b9e38",
   "metadata": {},
   "outputs": [],
   "source": [
    "fig, ax = plt.subplots(2, 2)\n",
    "\n",
    "ax[0, 0].imshow(uniqueimages[0])\n",
    "ax[0, 1].imshow(uniqueimages[1])\n",
    "ax[1, 0].imshow(uniqueimages[2])\n",
    "ax[1, 1].imshow(uniqueimages[3])\n",
    "plt.show()"
   ]
  },
  {
   "cell_type": "code",
   "execution_count": null,
   "id": "b77e5dca",
   "metadata": {},
   "outputs": [],
   "source": []
  }
 ],
 "metadata": {
  "kernelspec": {
   "display_name": "Python 3 (ipykernel)",
   "language": "python",
   "name": "python3"
  },
  "language_info": {
   "codemirror_mode": {
    "name": "ipython",
    "version": 3
   },
   "file_extension": ".py",
   "mimetype": "text/x-python",
   "name": "python",
   "nbconvert_exporter": "python",
   "pygments_lexer": "ipython3",
   "version": "3.9.7"
  }
 },
 "nbformat": 4,
 "nbformat_minor": 5
}
